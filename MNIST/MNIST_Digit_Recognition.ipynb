{
  "nbformat": 4,
  "nbformat_minor": 0,
  "metadata": {
    "colab": {
      "provenance": []
    },
    "kernelspec": {
      "name": "python3",
      "display_name": "Python 3"
    },
    "language_info": {
      "name": "python"
    }
  },
  "cells": [
    {
      "cell_type": "code",
      "execution_count": 1,
      "metadata": {
        "colab": {
          "base_uri": "https://localhost:8080/"
        },
        "id": "SlUM_DeR_dDH",
        "outputId": "1f1e5717-3481-4a12-81e6-f70408af8cc5"
      },
      "outputs": [
        {
          "output_type": "stream",
          "name": "stdout",
          "text": [
            "Cloning into 'Data-Science-Bootcamp-GFG'...\n",
            "remote: Enumerating objects: 15, done.\u001b[K\n",
            "remote: Counting objects: 100% (15/15), done.\u001b[K\n",
            "remote: Compressing objects: 100% (14/14), done.\u001b[K\n",
            "remote: Total 15 (delta 1), reused 0 (delta 0), pack-reused 0\u001b[K\n",
            "Unpacking objects: 100% (15/15), done.\n"
          ]
        }
      ],
      "source": [
        "!git clone https://github.com/AshishJangra27/Data-Science-Bootcamp-GFG"
      ]
    },
    {
      "cell_type": "code",
      "source": [
        "!unzip /content/Data-Science-Bootcamp-GFG/MNIST/datasets.zip"
      ],
      "metadata": {
        "colab": {
          "base_uri": "https://localhost:8080/"
        },
        "id": "dV3Tv2mNFPj4",
        "outputId": "a86bca61-4307-4088-a48a-7a4140dd767d"
      },
      "execution_count": 2,
      "outputs": [
        {
          "output_type": "stream",
          "name": "stdout",
          "text": [
            "Archive:  /content/Data-Science-Bootcamp-GFG/MNIST/datasets.zip\n",
            "  inflating: mnist_test.csv          \n",
            "  inflating: mnist_train.csv         \n"
          ]
        }
      ]
    },
    {
      "cell_type": "code",
      "source": [
        "import cv2 as cv\n",
        "import numpy as np\n",
        "import pandas as pd\n",
        "import matplotlib.pyplot as plt\n",
        "\n",
        "from keras.utils import np_utils\n",
        "from keras.models import Sequential\n",
        "from keras.layers import Dense, Activation, Conv2D, Dropout, Flatten, MaxPooling2D\n",
        "\n",
        "df = pd.read_csv('mnist_train.csv')\n",
        "\n",
        "x_train = df.values[ : , 1: ]/255\n",
        "y_train = df.values[ : , 0 ]\n",
        "y_train = np_utils.to_categorical(y_train)\n",
        "\n",
        "print('Training Dataset')\n",
        "print(x_train.shape)\n",
        "print(y_train.shape)\n",
        "\n",
        "df = pd.read_csv('mnist_test.csv')\n",
        "\n",
        "x_test = df.values[ : , 1: ]/255\n",
        "y_test = df.values[ : , 0 ]\n",
        "y_test = np_utils.to_categorical(y_test)\n",
        "\n",
        "print('Testing Dataset')\n",
        "print(x_test.shape)\n",
        "print(y_test.shape)"
      ],
      "metadata": {
        "colab": {
          "base_uri": "https://localhost:8080/"
        },
        "id": "Nu47UlsYFfVK",
        "outputId": "1e72429e-b860-4b49-895d-ece4d5bd0f98"
      },
      "execution_count": 31,
      "outputs": [
        {
          "output_type": "stream",
          "name": "stdout",
          "text": [
            "Training Dataset\n",
            "(60000, 784)\n",
            "(60000, 10)\n",
            "Testing Dataset\n",
            "(10000, 784)\n",
            "(10000, 10)\n"
          ]
        }
      ]
    },
    {
      "cell_type": "markdown",
      "source": [
        "### 1. Building Neural Network"
      ],
      "metadata": {
        "id": "KUi9SaOnRN18"
      }
    },
    {
      "cell_type": "code",
      "source": [
        "model = Sequential()\n",
        "\n",
        "model.add(Dense(512, input_shape = (784,)))\n",
        "model.add(Activation('relu'))\n",
        "\n",
        "model.add(Dense(256))\n",
        "model.add(Activation('relu'))\n",
        "\n",
        "model.add(Dense(10))\n",
        "model.add(Activation('softmax'))\n",
        "\n",
        "model.compile(loss = 'categorical_crossentropy', optimizer = 'adam', metrics = ['accuracy'])"
      ],
      "metadata": {
        "id": "fNx-LURXQmmm"
      },
      "execution_count": 26,
      "outputs": []
    },
    {
      "cell_type": "code",
      "source": [
        "history = model.fit(x_train, y_train, batch_size = 32 ,epochs = 5, validation_data = (x_test, y_test))"
      ],
      "metadata": {
        "colab": {
          "base_uri": "https://localhost:8080/"
        },
        "id": "Lg6lLH5eQmpA",
        "outputId": "081a04c4-6887-4df8-8722-58bc9221362e"
      },
      "execution_count": 28,
      "outputs": [
        {
          "output_type": "stream",
          "name": "stdout",
          "text": [
            "Epoch 1/5\n",
            "1875/1875 [==============================] - 21s 11ms/step - loss: 0.0162 - accuracy: 0.9953 - val_loss: 0.1189 - val_accuracy: 0.9790\n",
            "Epoch 2/5\n",
            "1875/1875 [==============================] - 17s 9ms/step - loss: 0.0158 - accuracy: 0.9952 - val_loss: 0.1009 - val_accuracy: 0.9823\n",
            "Epoch 3/5\n",
            "1875/1875 [==============================] - 15s 8ms/step - loss: 0.0142 - accuracy: 0.9962 - val_loss: 0.0962 - val_accuracy: 0.9814\n",
            "Epoch 4/5\n",
            "1875/1875 [==============================] - 20s 11ms/step - loss: 0.0126 - accuracy: 0.9963 - val_loss: 0.1164 - val_accuracy: 0.9800\n",
            "Epoch 5/5\n",
            "1875/1875 [==============================] - 15s 8ms/step - loss: 0.0119 - accuracy: 0.9964 - val_loss: 0.1096 - val_accuracy: 0.9815\n"
          ]
        }
      ]
    },
    {
      "cell_type": "code",
      "source": [
        "model.evaluate(x_test,y_test)"
      ],
      "metadata": {
        "colab": {
          "base_uri": "https://localhost:8080/"
        },
        "id": "CsoDgCSOQmud",
        "outputId": "f0cc8643-ab31-4d2a-8ea3-4b580ab221ae"
      },
      "execution_count": 30,
      "outputs": [
        {
          "output_type": "stream",
          "name": "stdout",
          "text": [
            "313/313 [==============================] - 1s 4ms/step - loss: 0.1096 - accuracy: 0.9815\n"
          ]
        },
        {
          "output_type": "execute_result",
          "data": {
            "text/plain": [
              "[0.10959117114543915, 0.9815000295639038]"
            ]
          },
          "metadata": {},
          "execution_count": 30
        }
      ]
    },
    {
      "cell_type": "markdown",
      "source": [
        "### 2. Building CNN based Model"
      ],
      "metadata": {
        "id": "5MgTMRSTYasU"
      }
    },
    {
      "cell_type": "code",
      "source": [
        "df = pd.read_csv('mnist_train.csv')\n",
        "\n",
        "x_train = df.values[ : , 1: ]/255\n",
        "x_train = np.reshape(x_train, (60000,28,28))\n",
        "y_train = df.values[ : , 0 ]\n",
        "y_train = np_utils.to_categorical(y_train)\n",
        "\n",
        "print('Training Dataset')\n",
        "print(x_train.shape)\n",
        "print(y_train.shape)\n",
        "\n",
        "df = pd.read_csv('mnist_test.csv')\n",
        "\n",
        "x_test = df.values[ : , 1: ]/255\n",
        "x_test = np.reshape(x_test, (10000,28,28))\n",
        "y_test = df.values[ : , 0 ]\n",
        "y_test = np_utils.to_categorical(y_test)\n",
        "\n",
        "print('Testing Dataset')\n",
        "print(x_test.shape)\n",
        "print(y_test.shape)"
      ],
      "metadata": {
        "colab": {
          "base_uri": "https://localhost:8080/"
        },
        "id": "IUlMF7QqYZuE",
        "outputId": "6056e436-0b6c-44b7-c3b9-4db426586ca0"
      },
      "execution_count": 33,
      "outputs": [
        {
          "output_type": "stream",
          "name": "stdout",
          "text": [
            "Training Dataset\n",
            "(60000, 28, 28)\n",
            "(60000, 10)\n",
            "Testing Dataset\n",
            "(10000, 28, 28)\n",
            "(10000, 10)\n"
          ]
        }
      ]
    },
    {
      "cell_type": "code",
      "source": [
        "model = Sequential()\n",
        "\n",
        "model.add(Conv2D(32, (3, 3), activation='relu', input_shape=(28, 28, 1)))\n",
        "model.add(MaxPooling2D((2, 2)))\n",
        "model.add(Flatten())\n",
        "\n",
        "model.add(Dense(100, activation='relu'))\n",
        "model.add(Dense(10, activation='softmax'))\n",
        "\n",
        "model.compile(optimizer='adam', loss='categorical_crossentropy', metrics=['accuracy'])"
      ],
      "metadata": {
        "id": "h1mSb6iVYZwg"
      },
      "execution_count": 35,
      "outputs": []
    },
    {
      "cell_type": "code",
      "source": [
        "history = model.fit(x_train, y_train, epochs=10, batch_size = 32 , validation_data=(x_test, y_test))"
      ],
      "metadata": {
        "colab": {
          "base_uri": "https://localhost:8080/"
        },
        "id": "15GQQy2IGhSE",
        "outputId": "d6dd7bb2-8d4c-4c27-f93a-1a6a2561ad7b"
      },
      "execution_count": 36,
      "outputs": [
        {
          "output_type": "stream",
          "name": "stdout",
          "text": [
            "Epoch 1/10\n",
            "1875/1875 [==============================] - 42s 22ms/step - loss: 0.1475 - accuracy: 0.9557 - val_loss: 0.0628 - val_accuracy: 0.9799\n",
            "Epoch 2/10\n",
            "1875/1875 [==============================] - 41s 22ms/step - loss: 0.0507 - accuracy: 0.9850 - val_loss: 0.0555 - val_accuracy: 0.9812\n",
            "Epoch 3/10\n",
            "1875/1875 [==============================] - 42s 23ms/step - loss: 0.0322 - accuracy: 0.9895 - val_loss: 0.0450 - val_accuracy: 0.9862\n",
            "Epoch 4/10\n",
            "1875/1875 [==============================] - 44s 23ms/step - loss: 0.0220 - accuracy: 0.9932 - val_loss: 0.0451 - val_accuracy: 0.9850\n",
            "Epoch 5/10\n",
            "1875/1875 [==============================] - 42s 22ms/step - loss: 0.0158 - accuracy: 0.9948 - val_loss: 0.0452 - val_accuracy: 0.9866\n",
            "Epoch 6/10\n",
            "1875/1875 [==============================] - 41s 22ms/step - loss: 0.0103 - accuracy: 0.9966 - val_loss: 0.0506 - val_accuracy: 0.9851\n",
            "Epoch 7/10\n",
            "1875/1875 [==============================] - 42s 22ms/step - loss: 0.0083 - accuracy: 0.9972 - val_loss: 0.0533 - val_accuracy: 0.9848\n",
            "Epoch 8/10\n",
            "1875/1875 [==============================] - 45s 24ms/step - loss: 0.0059 - accuracy: 0.9978 - val_loss: 0.0535 - val_accuracy: 0.9847\n",
            "Epoch 9/10\n",
            "1875/1875 [==============================] - 43s 23ms/step - loss: 0.0058 - accuracy: 0.9981 - val_loss: 0.0534 - val_accuracy: 0.9840\n",
            "Epoch 10/10\n",
            "1875/1875 [==============================] - 52s 28ms/step - loss: 0.0046 - accuracy: 0.9983 - val_loss: 0.0549 - val_accuracy: 0.9879\n"
          ]
        }
      ]
    },
    {
      "cell_type": "code",
      "source": [
        "img = x_test[10]\n",
        "\n",
        "plt.imshow(img, cmap = 'gray')\n",
        "\n",
        "img = np.reshape(img, (1,28,28))\n",
        "\n",
        "\n",
        "print(np.argmax(model.predict(img)))"
      ],
      "metadata": {
        "colab": {
          "base_uri": "https://localhost:8080/",
          "height": 299
        },
        "id": "NOzH1lmwG5CE",
        "outputId": "3fb57684-92d4-4653-fbc5-f48f1afd8fdf"
      },
      "execution_count": 60,
      "outputs": [
        {
          "output_type": "stream",
          "name": "stdout",
          "text": [
            "1/1 [==============================] - 0s 20ms/step\n",
            "0\n"
          ]
        },
        {
          "output_type": "display_data",
          "data": {
            "text/plain": [
              "<Figure size 432x288 with 1 Axes>"
            ],
            "image/png": "[encoded data removed]"
          },
          "metadata": {
            "needs_background": "light"
          }
        }
      ]
    },
    {
      "cell_type": "code",
      "source": [
        "import tensorflow as tf\n",
        "tf.math.argmax"
      ],
      "metadata": {
        "colab": {
          "base_uri": "https://localhost:8080/"
        },
        "id": "rlsvXR3dIpnY",
        "outputId": "65804f5f-2665-40ed-fe97-e52c0bb33a0f"
      },
      "execution_count": 55,
      "outputs": [
        {
          "output_type": "execute_result",
          "data": {
            "text/plain": [
              "<function tensorflow.python.ops.math_ops.argmax_v2(input, axis=None, output_type=tf.int64, name=None)>"
            ]
          },
          "metadata": {},
          "execution_count": 55
        }
      ]
    },
    {
      "cell_type": "code",
      "source": [
        "cv.imwrite('image.png',img)"
      ],
      "metadata": {
        "colab": {
          "base_uri": "https://localhost:8080/"
        },
        "id": "c1T_sjvJKh0W",
        "outputId": "01a72313-b2e8-42e2-a643-d921e2565f71"
      },
      "execution_count": 50,
      "outputs": [
        {
          "output_type": "execute_result",
          "data": {
            "text/plain": [
              "True"
            ]
          },
          "metadata": {},
          "execution_count": 50
        }
      ]
    },
    {
      "cell_type": "code",
      "source": [
        "lst = [1,2,3,4,5,6]\n",
        "\n",
        "print(lst[1 : ])"
      ],
      "metadata": {
        "colab": {
          "base_uri": "https://localhost:8080/"
        },
        "id": "cmu8t4g4LRDU",
        "outputId": "72b8479c-df98-434b-d65c-e1a8ebe5e141"
      },
      "execution_count": 65,
      "outputs": [
        {
          "output_type": "stream",
          "name": "stdout",
          "text": [
            "[2, 3, 4, 5, 6]\n"
          ]
        }
      ]
    },
    {
      "cell_type": "code",
      "source": [],
      "metadata": {
        "id": "NPUJZqyOPWGS"
      },
      "execution_count": null,
      "outputs": []
    }
  ]
}